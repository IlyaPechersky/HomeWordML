{
  "nbformat": 4,
  "nbformat_minor": 0,
  "metadata": {
    "anaconda-cloud": {},
    "kernelspec": {
      "display_name": "Python 3",
      "language": "python",
      "name": "python3"
    },
    "language_info": {
      "codemirror_mode": {
        "name": "ipython",
        "version": 3
      },
      "file_extension": ".py",
      "mimetype": "text/x-python",
      "name": "python",
      "nbconvert_exporter": "python",
      "pygments_lexer": "ipython3",
      "version": "3.6.5"
    },
    "colab": {
      "name": "Copy of pandas_hw.ipynb",
      "provenance": [],
      "collapsed_sections": []
    }
  },
  "cells": [
    {
      "cell_type": "markdown",
      "metadata": {
        "id": "U0PqernRSzO4",
        "colab_type": "text"
      },
      "source": [
        "<center>\n",
        "<img src=\"../../img/ods_stickers.jpg\">\n",
        "## Открытый курс по машинному обучению\n",
        "<center>\n",
        "Автор материала: Юрий Кашницкий, программист-исследователь Mail.Ru Group <br> \n",
        "\n",
        "Материал распространяется на условиях лицензии [Creative Commons CC BY-NC-SA 4.0](https://creativecommons.org/licenses/by-nc-sa/4.0/). Можно использовать в любых целях (редактировать, поправлять и брать за основу), кроме коммерческих, но с обязательным упоминанием автора материала."
      ]
    },
    {
      "cell_type": "markdown",
      "metadata": {
        "id": "ZwNaP6QsSzO5",
        "colab_type": "text"
      },
      "source": [
        "# <center>Домашнее задание № 1 (демо).<br> Анализ данных по доходу населения UCI Adult</center>"
      ]
    },
    {
      "cell_type": "markdown",
      "metadata": {
        "id": "UqUI2AA5SzO6",
        "colab_type": "text"
      },
      "source": [
        "\n",
        "\n",
        "```\n",
        "# This is formatted as code\n",
        "```\n",
        "\n",
        "**В задании предлагается с помощью Pandas ответить на несколько вопросов по данным репозитория UCI [Adult](https://archive.ics.uci.edu/ml/datasets/Adult) (качать данные не надо – они уже есть в репозитории). Для отправки решений используйте [онлайн-форму](https://docs.google.com/forms/d/1xAzU-5N6oEeR4UG8G44V6XL-Kbr4WYcPBG45Kijge2Y).**"
      ]
    },
    {
      "cell_type": "markdown",
      "metadata": {
        "id": "GIjpCnGvSzO7",
        "colab_type": "text"
      },
      "source": [
        "Уникальные значения признаков (больше информации по ссылке выше):\n",
        "- age: continuous.\n",
        "- workclass: Private, Self-emp-not-inc, Self-emp-inc, Federal-gov, Local-gov, State-gov, Without-pay, Never-worked.\n",
        "- fnlwgt: continuous.\n",
        "- education: Bachelors, Some-college, 11th, HS-grad, Prof-school, Assoc-acdm, Assoc-voc, 9th, 7th-8th, 12th, Masters, 1st-4th, 10th, Doctorate, 5th-6th, Preschool.\n",
        "- education-num: continuous.\n",
        "- marital-status: Married-civ-spouse, Divorced, Never-married, Separated, Widowed, Married-spouse-absent, Married-AF-spouse.\n",
        "- occupation: Tech-support, Craft-repair, Other-service, Sales, Exec-managerial, Prof-specialty, Handlers-cleaners, Machine-op-inspct, Adm-clerical, Farming-fishing, Transport-moving, Priv-house-serv, Protective-serv, Armed-Forces.\n",
        "- relationship: Wife, Own-child, Husband, Not-in-family, Other-relative, Unmarried.\n",
        "- race: White, Asian-Pac-Islander, Amer-Indian-Eskimo, Other, Black.\n",
        "- sex: Female, Male.\n",
        "- capital-gain: continuous.\n",
        "- capital-loss: continuous.\n",
        "- hours-per-week: continuous.\n",
        "- native-country: United-States, Cambodia, England, Puerto-Rico, Canada, Germany, Outlying-US(Guam-USVI-etc), India, Japan, Greece, South, China, Cuba, Iran, Honduras, Philippines, Italy, Poland, Jamaica, Vietnam, Mexico, Portugal, Ireland, France, Dominican-Republic, Laos, Ecuador, Taiwan, Haiti, Columbia, Hungary, Guatemala, Nicaragua, Scotland, Thailand, Yugoslavia, El-Salvador, Trinadad&Tobago, Peru, Hong, Holand-Netherlands.   \n",
        "- salary: >50K,<=50K"
      ]
    },
    {
      "cell_type": "code",
      "metadata": {
        "id": "p2fz0KK-SzO7",
        "colab_type": "code",
        "colab": {}
      },
      "source": [
        "import pandas as pd"
      ],
      "execution_count": 0,
      "outputs": []
    },
    {
      "cell_type": "code",
      "metadata": {
        "id": "mLtWHOYXSzO-",
        "colab_type": "code",
        "outputId": "8c22dbe7-f5d9-433f-8e70-1c0c30474754",
        "colab": {
          "base_uri": "https://localhost:8080/",
          "height": 204
        }
      },
      "source": [
        "data = pd.read_csv('https://raw.githubusercontent.com/Yorko/mlcourse.ai/master/data/adult.data.csv')\n",
        "data.head()"
      ],
      "execution_count": 3,
      "outputs": [
        {
          "output_type": "execute_result",
          "data": {
            "text/html": [
              "<div>\n",
              "<style scoped>\n",
              "    .dataframe tbody tr th:only-of-type {\n",
              "        vertical-align: middle;\n",
              "    }\n",
              "\n",
              "    .dataframe tbody tr th {\n",
              "        vertical-align: top;\n",
              "    }\n",
              "\n",
              "    .dataframe thead th {\n",
              "        text-align: right;\n",
              "    }\n",
              "</style>\n",
              "<table border=\"1\" class=\"dataframe\">\n",
              "  <thead>\n",
              "    <tr style=\"text-align: right;\">\n",
              "      <th></th>\n",
              "      <th>age</th>\n",
              "      <th>workclass</th>\n",
              "      <th>fnlwgt</th>\n",
              "      <th>education</th>\n",
              "      <th>education-num</th>\n",
              "      <th>marital-status</th>\n",
              "      <th>occupation</th>\n",
              "      <th>relationship</th>\n",
              "      <th>race</th>\n",
              "      <th>sex</th>\n",
              "      <th>capital-gain</th>\n",
              "      <th>capital-loss</th>\n",
              "      <th>hours-per-week</th>\n",
              "      <th>native-country</th>\n",
              "      <th>salary</th>\n",
              "    </tr>\n",
              "  </thead>\n",
              "  <tbody>\n",
              "    <tr>\n",
              "      <th>0</th>\n",
              "      <td>39</td>\n",
              "      <td>State-gov</td>\n",
              "      <td>77516</td>\n",
              "      <td>Bachelors</td>\n",
              "      <td>13</td>\n",
              "      <td>Never-married</td>\n",
              "      <td>Adm-clerical</td>\n",
              "      <td>Not-in-family</td>\n",
              "      <td>White</td>\n",
              "      <td>Male</td>\n",
              "      <td>2174</td>\n",
              "      <td>0</td>\n",
              "      <td>40</td>\n",
              "      <td>United-States</td>\n",
              "      <td>&lt;=50K</td>\n",
              "    </tr>\n",
              "    <tr>\n",
              "      <th>1</th>\n",
              "      <td>50</td>\n",
              "      <td>Self-emp-not-inc</td>\n",
              "      <td>83311</td>\n",
              "      <td>Bachelors</td>\n",
              "      <td>13</td>\n",
              "      <td>Married-civ-spouse</td>\n",
              "      <td>Exec-managerial</td>\n",
              "      <td>Husband</td>\n",
              "      <td>White</td>\n",
              "      <td>Male</td>\n",
              "      <td>0</td>\n",
              "      <td>0</td>\n",
              "      <td>13</td>\n",
              "      <td>United-States</td>\n",
              "      <td>&lt;=50K</td>\n",
              "    </tr>\n",
              "    <tr>\n",
              "      <th>2</th>\n",
              "      <td>38</td>\n",
              "      <td>Private</td>\n",
              "      <td>215646</td>\n",
              "      <td>HS-grad</td>\n",
              "      <td>9</td>\n",
              "      <td>Divorced</td>\n",
              "      <td>Handlers-cleaners</td>\n",
              "      <td>Not-in-family</td>\n",
              "      <td>White</td>\n",
              "      <td>Male</td>\n",
              "      <td>0</td>\n",
              "      <td>0</td>\n",
              "      <td>40</td>\n",
              "      <td>United-States</td>\n",
              "      <td>&lt;=50K</td>\n",
              "    </tr>\n",
              "    <tr>\n",
              "      <th>3</th>\n",
              "      <td>53</td>\n",
              "      <td>Private</td>\n",
              "      <td>234721</td>\n",
              "      <td>11th</td>\n",
              "      <td>7</td>\n",
              "      <td>Married-civ-spouse</td>\n",
              "      <td>Handlers-cleaners</td>\n",
              "      <td>Husband</td>\n",
              "      <td>Black</td>\n",
              "      <td>Male</td>\n",
              "      <td>0</td>\n",
              "      <td>0</td>\n",
              "      <td>40</td>\n",
              "      <td>United-States</td>\n",
              "      <td>&lt;=50K</td>\n",
              "    </tr>\n",
              "    <tr>\n",
              "      <th>4</th>\n",
              "      <td>28</td>\n",
              "      <td>Private</td>\n",
              "      <td>338409</td>\n",
              "      <td>Bachelors</td>\n",
              "      <td>13</td>\n",
              "      <td>Married-civ-spouse</td>\n",
              "      <td>Prof-specialty</td>\n",
              "      <td>Wife</td>\n",
              "      <td>Black</td>\n",
              "      <td>Female</td>\n",
              "      <td>0</td>\n",
              "      <td>0</td>\n",
              "      <td>40</td>\n",
              "      <td>Cuba</td>\n",
              "      <td>&lt;=50K</td>\n",
              "    </tr>\n",
              "  </tbody>\n",
              "</table>\n",
              "</div>"
            ],
            "text/plain": [
              "   age         workclass  fnlwgt  ... hours-per-week  native-country salary\n",
              "0   39         State-gov   77516  ...             40   United-States  <=50K\n",
              "1   50  Self-emp-not-inc   83311  ...             13   United-States  <=50K\n",
              "2   38           Private  215646  ...             40   United-States  <=50K\n",
              "3   53           Private  234721  ...             40   United-States  <=50K\n",
              "4   28           Private  338409  ...             40            Cuba  <=50K\n",
              "\n",
              "[5 rows x 15 columns]"
            ]
          },
          "metadata": {
            "tags": []
          },
          "execution_count": 3
        }
      ]
    },
    {
      "cell_type": "markdown",
      "metadata": {
        "id": "JTwWcEpBSzPB",
        "colab_type": "text"
      },
      "source": [
        "\n",
        "\n",
        "```\n",
        "# This is formatted as code\n",
        "```\n",
        "\n",
        "**1. Сколько мужчин и женщин (признак *sex*) представлено в этом наборе данных?**"
      ]
    },
    {
      "cell_type": "code",
      "metadata": {
        "id": "TpdgltvSSzPC",
        "colab_type": "code",
        "outputId": "cd98deec-f5bd-4739-da3f-44afc3b410b5",
        "colab": {
          "base_uri": "https://localhost:8080/",
          "height": 68
        }
      },
      "source": [
        "data['sex'].value_counts()"
      ],
      "execution_count": 4,
      "outputs": [
        {
          "output_type": "execute_result",
          "data": {
            "text/plain": [
              "Male      21790\n",
              "Female    10771\n",
              "Name: sex, dtype: int64"
            ]
          },
          "metadata": {
            "tags": []
          },
          "execution_count": 4
        }
      ]
    },
    {
      "cell_type": "markdown",
      "metadata": {
        "id": "6Z0hvE3CSzPE",
        "colab_type": "text"
      },
      "source": [
        "** **bold text**2. Каков средний возраст (признак *age*) женщин?**"
      ]
    },
    {
      "cell_type": "code",
      "metadata": {
        "id": "A3kh1033SzPE",
        "colab_type": "code",
        "outputId": "28aad4ca-f0ff-4eb5-f06b-777bcbf84202",
        "colab": {
          "base_uri": "https://localhost:8080/",
          "height": 34
        }
      },
      "source": [
        "data[data['sex'] == 'Female']['age'].mean()"
      ],
      "execution_count": 5,
      "outputs": [
        {
          "output_type": "execute_result",
          "data": {
            "text/plain": [
              "36.85823043357163"
            ]
          },
          "metadata": {
            "tags": []
          },
          "execution_count": 5
        }
      ]
    },
    {
      "cell_type": "markdown",
      "metadata": {
        "id": "twFZvUwfSzPG",
        "colab_type": "text"
      },
      "source": [
        "**3. Какова доля граждан Германии (признак *native-country*)?**"
      ]
    },
    {
      "cell_type": "code",
      "metadata": {
        "id": "py_Uf8nySzPH",
        "colab_type": "code",
        "outputId": "51fe822b-433d-4049-edcf-237baf894c8b",
        "colab": {
          "base_uri": "https://localhost:8080/",
          "height": 34
        }
      },
      "source": [
        "len(data[data['native-country'] == 'Germany']) / len(data)"
      ],
      "execution_count": 6,
      "outputs": [
        {
          "output_type": "execute_result",
          "data": {
            "text/plain": [
              "0.004207487485028101"
            ]
          },
          "metadata": {
            "tags": []
          },
          "execution_count": 6
        }
      ]
    },
    {
      "cell_type": "markdown",
      "metadata": {
        "id": "rHu13TXLSzPJ",
        "colab_type": "text"
      },
      "source": [
        "** 4-5. Каковы средние значения и среднеквадратичные отклонения возраста тех, кто получает более 50K в год (признак *salary*) и тех, кто получает менее 50K в год? **"
      ]
    },
    {
      "cell_type": "code",
      "metadata": {
        "id": "LQ56VpKkSzPJ",
        "colab_type": "code",
        "colab": {
          "base_uri": "https://localhost:8080/",
          "height": 85
        },
        "outputId": "6eca57f5-5c22-434d-fdc2-61760e0abd89"
      },
      "source": [
        "print(data[data['salary'] == '>50K'].mean()[0])\n",
        "print(data[data['salary'] == '>50K'].std()[0])\n",
        "print(data[data['salary'] == '<=50K'].mean()[0])\n",
        "print(data[data['salary'] == '<=50K'].std()[0])"
      ],
      "execution_count": 8,
      "outputs": [
        {
          "output_type": "stream",
          "text": [
            "44.24984058155847\n",
            "10.51902771985177\n",
            "36.78373786407767\n",
            "14.020088490824813\n"
          ],
          "name": "stdout"
        }
      ]
    },
    {
      "cell_type": "markdown",
      "metadata": {
        "id": "-XifIZf9SzPL",
        "colab_type": "text"
      },
      "source": [
        "**6. Правда ли, что люди, которые получают больше 50k, имеют как минимум высшее образование? (признак *education – Bachelors, Prof-school, Assoc-acdm, Assoc-voc, Masters* или *Doctorate*)**"
      ]
    },
    {
      "cell_type": "code",
      "metadata": {
        "id": "weRoMWZJSzPM",
        "colab_type": "code",
        "outputId": "3a3fe1df-fd0c-4133-edc0-dee0241a0737",
        "colab": {
          "base_uri": "https://localhost:8080/",
          "height": 85
        }
      },
      "source": [
        "print(len(data[data['salary'] == '>50K'][data['education'] != 'Bachelors'][data['education'] != 'Prof-school'][data['education'] != 'Assoc-acdm'][data['education'] != 'Assoc-voc'][data['education'] != 'Masters'][data['education'] != 'Doctorate']))\n",
        "print(\"не, не правда\")"
      ],
      "execution_count": 14,
      "outputs": [
        {
          "output_type": "stream",
          "text": [
            "3306\n",
            "не, не правда\n"
          ],
          "name": "stdout"
        },
        {
          "output_type": "stream",
          "text": [
            "/usr/local/lib/python3.6/dist-packages/ipykernel_launcher.py:1: UserWarning: Boolean Series key will be reindexed to match DataFrame index.\n",
            "  \"\"\"Entry point for launching an IPython kernel.\n"
          ],
          "name": "stderr"
        }
      ]
    },
    {
      "cell_type": "markdown",
      "metadata": {
        "id": "z-sam_ekSzPO",
        "colab_type": "text"
      },
      "source": [
        "**7. Выведите статистику возраста для каждой расы (признак *race*) и каждого пола. Используйте *groupby* и *describe*. Найдите таким образом максимальный возраст мужчин расы *Amer-Indian-Eskimo*.**"
      ]
    },
    {
      "cell_type": "code",
      "metadata": {
        "id": "mfho6nk3SzPO",
        "colab_type": "code",
        "colab": {
          "base_uri": "https://localhost:8080/",
          "height": 34
        },
        "outputId": "0a1de5fd-4911-49fa-d656-c89fdb5bcd7f"
      },
      "source": [
        "data[data['race'] == 'Amer-Indian-Eskimo'].groupby('race').head().describe()['age']['max']"
      ],
      "execution_count": 21,
      "outputs": [
        {
          "output_type": "execute_result",
          "data": {
            "text/plain": [
              "60.0"
            ]
          },
          "metadata": {
            "tags": []
          },
          "execution_count": 21
        }
      ]
    },
    {
      "cell_type": "markdown",
      "metadata": {
        "id": "TcVeoBbHSzPQ",
        "colab_type": "text"
      },
      "source": [
        "**8. Среди кого больше доля зарабатывающих много (>50K): среди женатых или холостых мужчин (признак *marital-status*)? Женатыми считаем тех, у кого *marital-status* начинается с *Married* (Married-civ-spouse, Married-spouse-absent или Married-AF-spouse), остальных считаем холостыми.**"
      ]
    },
    {
      "cell_type": "code",
      "metadata": {
        "id": "LCI0fPogSzPR",
        "colab_type": "code",
        "colab": {
          "base_uri": "https://localhost:8080/",
          "height": 68
        },
        "outputId": "4acb2272-8af4-4c0d-93f0-3e16111e967e"
      },
      "source": [
        "(len(data[data['marital-status'] == 'Married-civ-spouse'][data['salary'] == '>50K']) + len(data[data['marital-status'] == 'Married-civ-absent'][data['salary'] == '>50K']) + len(data[data['marital-status'] == 'Married-AF-spouse'][data['salary'] == '>50K'])) / (len(data[data['marital-status'] == 'Married-civ-spouse']) + len(data[data['marital-status'] == 'Married-civ-absent']) + len(data[data['marital-status'] == 'Married-AF-spouse']))"
      ],
      "execution_count": 27,
      "outputs": [
        {
          "output_type": "stream",
          "text": [
            "/usr/local/lib/python3.6/dist-packages/ipykernel_launcher.py:1: UserWarning: Boolean Series key will be reindexed to match DataFrame index.\n",
            "  \"\"\"Entry point for launching an IPython kernel.\n"
          ],
          "name": "stderr"
        },
        {
          "output_type": "execute_result",
          "data": {
            "text/plain": [
              "0.44682978865257683"
            ]
          },
          "metadata": {
            "tags": []
          },
          "execution_count": 27
        }
      ]
    },
    {
      "cell_type": "code",
      "metadata": {
        "id": "72mgZl1KgZUi",
        "colab_type": "code",
        "colab": {
          "base_uri": "https://localhost:8080/",
          "height": 68
        },
        "outputId": "3330b2b9-a1d9-43ee-951a-81a934a99411"
      },
      "source": [
        "(len(data[data['salary'] == '>50K']) - len(data[data['marital-status'] == 'Married-civ-spouse'][data['salary'] == '>50K']) - len(data[data['marital-status'] == 'Married-civ-absent'][data['salary'] == '>50K']) - len(data[data['marital-status'] == 'Married-AF-spouse'][data['salary'] == '>50K'])) / (len(data) - len(data[data['marital-status'] == 'Married-civ-spouse']) - len(data[data['marital-status'] == 'Married-civ-absent']) - len(data[data['marital-status'] == 'Married-AF-spouse']))"
      ],
      "execution_count": 31,
      "outputs": [
        {
          "output_type": "stream",
          "text": [
            "/usr/local/lib/python3.6/dist-packages/ipykernel_launcher.py:1: UserWarning: Boolean Series key will be reindexed to match DataFrame index.\n",
            "  \"\"\"Entry point for launching an IPython kernel.\n"
          ],
          "name": "stderr"
        },
        {
          "output_type": "execute_result",
          "data": {
            "text/plain": [
              "0.06485593895911627"
            ]
          },
          "metadata": {
            "tags": []
          },
          "execution_count": 31
        }
      ]
    },
    {
      "cell_type": "markdown",
      "metadata": {
        "id": "n-UqOCk8SzPT",
        "colab_type": "text"
      },
      "source": [
        "**9. Какое максимальное число часов человек работает в неделю (признак *hours-per-week*)? Сколько людей работают такое количество часов и каков среди них процент зарабатывающих много?**"
      ]
    },
    {
      "cell_type": "code",
      "metadata": {
        "id": "oJwmxnrqSzPT",
        "colab_type": "code",
        "colab": {
          "base_uri": "https://localhost:8080/",
          "height": 34
        },
        "outputId": "9553e730-77c7-4bbe-b6fa-f948908612d3"
      },
      "source": [
        "data.describe()['hours-per-week']['max']"
      ],
      "execution_count": 32,
      "outputs": [
        {
          "output_type": "execute_result",
          "data": {
            "text/plain": [
              "99.0"
            ]
          },
          "metadata": {
            "tags": []
          },
          "execution_count": 32
        }
      ]
    },
    {
      "cell_type": "code",
      "metadata": {
        "id": "UMRTfc2sixBP",
        "colab_type": "code",
        "colab": {
          "base_uri": "https://localhost:8080/",
          "height": 34
        },
        "outputId": "36167eda-d274-41e8-bf23-2e4bfaf15725"
      },
      "source": [
        "len(data[data['hours-per-week'] == 99])"
      ],
      "execution_count": 34,
      "outputs": [
        {
          "output_type": "execute_result",
          "data": {
            "text/plain": [
              "85"
            ]
          },
          "metadata": {
            "tags": []
          },
          "execution_count": 34
        }
      ]
    },
    {
      "cell_type": "code",
      "metadata": {
        "id": "W8xucC6njAmc",
        "colab_type": "code",
        "colab": {
          "base_uri": "https://localhost:8080/",
          "height": 68
        },
        "outputId": "3d999f3b-f9e4-4509-d9f5-756d567e1f59"
      },
      "source": [
        "print(str(100 * len(data[data['hours-per-week'] == 99][data['salary'] == '>50K']) / len(data[data['hours-per-week'] == 99])) + \"%\")"
      ],
      "execution_count": 38,
      "outputs": [
        {
          "output_type": "stream",
          "text": [
            "29.41176470588235%\n"
          ],
          "name": "stdout"
        },
        {
          "output_type": "stream",
          "text": [
            "/usr/local/lib/python3.6/dist-packages/ipykernel_launcher.py:1: UserWarning: Boolean Series key will be reindexed to match DataFrame index.\n",
            "  \"\"\"Entry point for launching an IPython kernel.\n"
          ],
          "name": "stderr"
        }
      ]
    },
    {
      "cell_type": "markdown",
      "metadata": {
        "id": "MUyq-FFFSzPV",
        "colab_type": "text"
      },
      "source": [
        "**10. Посчитайте среднее время работы (*hours-per-week*) зарабатывающих мало и много (*salary*) для каждой страны (*native-country*).**"
      ]
    },
    {
      "cell_type": "code",
      "metadata": {
        "id": "eOvk1FQuSzPW",
        "colab_type": "code",
        "colab": {
          "base_uri": "https://localhost:8080/",
          "height": 34
        },
        "outputId": "4b672be3-c111-4e75-dd9c-0827ce93988a"
      },
      "source": [
        "data[data['salary'] == '<=50K']['hours-per-week'].mean()"
      ],
      "execution_count": 40,
      "outputs": [
        {
          "output_type": "execute_result",
          "data": {
            "text/plain": [
              "38.840210355987054"
            ]
          },
          "metadata": {
            "tags": []
          },
          "execution_count": 40
        }
      ]
    },
    {
      "cell_type": "code",
      "metadata": {
        "id": "cgAB_20Tjx8C",
        "colab_type": "code",
        "colab": {
          "base_uri": "https://localhost:8080/",
          "height": 34
        },
        "outputId": "e59639d2-b3bd-45d6-96e5-f8f23b128c18"
      },
      "source": [
        "data[data['salary'] == '>50K']['hours-per-week'].mean()"
      ],
      "execution_count": 41,
      "outputs": [
        {
          "output_type": "execute_result",
          "data": {
            "text/plain": [
              "45.473026399693914"
            ]
          },
          "metadata": {
            "tags": []
          },
          "execution_count": 41
        }
      ]
    },
    {
      "cell_type": "code",
      "metadata": {
        "id": "BDD98q7qkEDD",
        "colab_type": "code",
        "colab": {
          "base_uri": "https://localhost:8080/",
          "height": 1000
        },
        "outputId": "d51cc2c5-44b4-445d-823e-f03eeb4b45f3"
      },
      "source": [
        "dict = {}\n",
        "for country in data['native-country']:\n",
        "  dict[country] = data[data['salary'] == '>50K']['hours-per-week'][data['native-country'] == country].mean()\n",
        "for country in dict.keys():\n",
        "  print(country + \": \" + str(dict[country]) + \"\\n\")"
      ],
      "execution_count": 49,
      "outputs": [
        {
          "output_type": "stream",
          "text": [
            "United-States: 45.50536884674383\n",
            "\n",
            "Cuba: 42.44\n",
            "\n",
            "Jamaica: 41.1\n",
            "\n",
            "India: 46.475\n",
            "\n",
            "?: 45.54794520547945\n",
            "\n",
            "Mexico: 46.57575757575758\n",
            "\n",
            "South: 51.4375\n",
            "\n",
            "Puerto-Rico: 39.416666666666664\n",
            "\n",
            "Honduras: 60.0\n",
            "\n",
            "England: 44.53333333333333\n",
            "\n",
            "Canada: 45.64102564102564\n",
            "\n",
            "Germany: 44.97727272727273\n",
            "\n",
            "Iran: 47.5\n",
            "\n",
            "Philippines: 43.032786885245905\n",
            "\n",
            "Italy: 45.4\n",
            "\n",
            "Poland: 39.0\n",
            "\n",
            "Columbia: 50.0\n",
            "\n",
            "Cambodia: 40.0\n",
            "\n",
            "Thailand: 58.333333333333336\n",
            "\n",
            "Ecuador: 48.75\n",
            "\n",
            "Laos: 40.0\n",
            "\n",
            "Taiwan: 46.8\n",
            "\n",
            "Haiti: 42.75\n",
            "\n",
            "Portugal: 41.5\n",
            "\n",
            "Dominican-Republic: 47.0\n",
            "\n",
            "El-Salvador: 45.0\n",
            "\n",
            "France: 50.75\n",
            "\n",
            "Guatemala: 36.666666666666664\n",
            "\n",
            "China: 38.9\n",
            "\n",
            "Japan: 47.958333333333336\n",
            "\n",
            "Yugoslavia: 49.5\n",
            "\n",
            "Peru: 40.0\n",
            "\n",
            "Outlying-US(Guam-USVI-etc): nan\n",
            "\n",
            "Scotland: 46.666666666666664\n",
            "\n",
            "Trinadad&Tobago: 40.0\n",
            "\n",
            "Greece: 50.625\n",
            "\n",
            "Nicaragua: 37.5\n",
            "\n",
            "Vietnam: 39.2\n",
            "\n",
            "Hong: 45.0\n",
            "\n",
            "Ireland: 48.0\n",
            "\n",
            "Hungary: 50.0\n",
            "\n",
            "Holand-Netherlands: nan\n",
            "\n"
          ],
          "name": "stdout"
        }
      ]
    }
  ]
}